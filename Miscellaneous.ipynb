{
 "cells": [
  {
   "cell_type": "markdown",
   "id": "7a6b2ad6",
   "metadata": {},
   "source": [
    "### Mapping the values with original data "
   ]
  },
  {
   "cell_type": "markdown",
   "id": "0feb88b8",
   "metadata": {},
   "source": [
    "#### 1. Feature variations for sherlock data"
   ]
  },
  {
   "cell_type": "code",
   "execution_count": 17,
   "id": "9484c3f6",
   "metadata": {},
   "outputs": [],
   "source": [
    "import pandas as pd\n",
    "import json\n",
    "from collections import defaultdict\n",
    "import numpy as np\n",
    "import random"
   ]
  },
  {
   "cell_type": "markdown",
   "id": "b2b11368",
   "metadata": {},
   "source": [
    "#### 2. Reading the mapping and features files"
   ]
  },
  {
   "cell_type": "code",
   "execution_count": 2,
   "id": "4a9eec81",
   "metadata": {},
   "outputs": [],
   "source": [
    "### Mapping file for each type\n",
    "mapping_file = pd.read_excel(r'data/Column_Mapping.xlsx')"
   ]
  },
  {
   "cell_type": "code",
   "execution_count": 3,
   "id": "a330bd1e",
   "metadata": {},
   "outputs": [],
   "source": [
    "### Get the json file with each features\n",
    "with open(r\"data\\corrected_combined_with_features.json\",'rb') as f:\n",
    "    feats_json = json.load(f)"
   ]
  },
  {
   "cell_type": "markdown",
   "id": "e6d0b464",
   "metadata": {},
   "source": [
    "#### 3.1.  Data related changes - Mapping File"
   ]
  },
  {
   "cell_type": "code",
   "execution_count": 4,
   "id": "626141ed",
   "metadata": {},
   "outputs": [],
   "source": [
    "### Mapping format to long format\n",
    "split_df = pd.DataFrame(mapping_file.Variations.str.split(',').tolist(), index=mapping_file.type).stack().reset_index()\n",
    "split_df.columns = ['type','index','variation']\n",
    "split_df = split_df[['type','variation']]\n",
    "split_df['variation'] = split_df['variation'].str.strip().str.lower()\n",
    "split_df['type'] = split_df['type'].str.strip().str.lower()"
   ]
  },
  {
   "cell_type": "code",
   "execution_count": 5,
   "id": "611f2e7f",
   "metadata": {},
   "outputs": [],
   "source": [
    "original_type = split_df[['type','type']].drop_duplicates()\n",
    "original_type.columns = ['type','variation']"
   ]
  },
  {
   "cell_type": "code",
   "execution_count": 6,
   "id": "c68d24d2",
   "metadata": {},
   "outputs": [],
   "source": [
    "final_df = pd.concat([split_df,original_type])\n",
    "final_df = final_df.drop_duplicates().reset_index(drop=True)\n",
    "final_df['variation'] = final_df['variation'].str.strip()"
   ]
  },
  {
   "cell_type": "code",
   "execution_count": 7,
   "id": "fc485168",
   "metadata": {},
   "outputs": [],
   "source": [
    "key_dict = defaultdict(list)\n",
    "\n",
    "for i,row in final_df.iterrows():\n",
    "    key_dict[row['type']].append(row['variation'])"
   ]
  },
  {
   "cell_type": "markdown",
   "id": "6a6f326b",
   "metadata": {},
   "source": [
    "#### 3.2.  Data related changes - Sherlock File"
   ]
  },
  {
   "cell_type": "code",
   "execution_count": 8,
   "id": "62cfa599",
   "metadata": {},
   "outputs": [],
   "source": [
    "sherlock_data = pd.DataFrame(feats_json)\n",
    "sherlock_data['type'] = sherlock_data['type'].str.lower().str.strip()"
   ]
  },
  {
   "cell_type": "code",
   "execution_count": 9,
   "id": "23ff260e",
   "metadata": {},
   "outputs": [],
   "source": [
    "sherlock_count = sherlock_data['type'].value_counts().to_dict()"
   ]
  },
  {
   "cell_type": "markdown",
   "id": "c7c20504",
   "metadata": {},
   "source": [
    "#### 4. Logic Mappping"
   ]
  },
  {
   "cell_type": "code",
   "execution_count": 10,
   "id": "c55bd189",
   "metadata": {},
   "outputs": [],
   "source": [
    "sherlock_key_map = {}\n",
    "\n",
    "for keys, values in sherlock_count.items():\n",
    "    variations = key_dict[keys]\n",
    "    if len(variations)>0:\n",
    "        extras = []\n",
    "        output = list(np.repeat(variations,values/len(variations)))\n",
    "        if values-len(output) >0:\n",
    "            extras = variations[:values-len(output)]\n",
    "        final_output = output + extras\n",
    "    else:\n",
    "        final_output = variations * values\n",
    "    \n",
    "    sherlock_key_map[keys] = final_output"
   ]
  },
  {
   "cell_type": "markdown",
   "id": "4d4debd9",
   "metadata": {},
   "source": [
    "#### 5. Validating the results"
   ]
  },
  {
   "cell_type": "code",
   "execution_count": 11,
   "id": "9a904b59",
   "metadata": {
    "scrolled": true
   },
   "outputs": [],
   "source": [
    "for key, value in sherlock_count.items():\n",
    "    if sherlock_count[key] != len(sherlock_key_map[key]):\n",
    "        print('{} is not matched in row count'.format(key))"
   ]
  },
  {
   "cell_type": "markdown",
   "id": "d194f140",
   "metadata": {},
   "source": [
    "#### 6. Randomly shuffle elements in each data"
   ]
  },
  {
   "cell_type": "code",
   "execution_count": 25,
   "id": "e62c149f",
   "metadata": {},
   "outputs": [],
   "source": [
    "type_feats_mapping = {}\n",
    "\n",
    "for keys,values in sherlock_key_map.items():\n",
    "    random.shuffle(values)\n",
    "    type_feats_mapping[keys] = values\n",
    "    \n",
    "type_feats_mapping = dict(type_feats_mapping)"
   ]
  },
  {
   "cell_type": "markdown",
   "id": "c3c74a55",
   "metadata": {},
   "source": [
    "#### 7. Mapping features of Sherlock data with values"
   ]
  },
  {
   "cell_type": "code",
   "execution_count": 31,
   "id": "037e62ee",
   "metadata": {},
   "outputs": [
    {
     "data": {
      "text/html": [
       "<div>\n",
       "<style scoped>\n",
       "    .dataframe tbody tr th:only-of-type {\n",
       "        vertical-align: middle;\n",
       "    }\n",
       "\n",
       "    .dataframe tbody tr th {\n",
       "        vertical-align: top;\n",
       "    }\n",
       "\n",
       "    .dataframe thead th {\n",
       "        text-align: right;\n",
       "    }\n",
       "</style>\n",
       "<table border=\"1\" class=\"dataframe\">\n",
       "  <thead>\n",
       "    <tr style=\"text-align: right;\">\n",
       "      <th></th>\n",
       "      <th>0</th>\n",
       "      <th>1</th>\n",
       "    </tr>\n",
       "  </thead>\n",
       "  <tbody>\n",
       "    <tr>\n",
       "      <th>0</th>\n",
       "      <td>jockey</td>\n",
       "      <td>[jockey information, jockey name, jockey infor...</td>\n",
       "    </tr>\n",
       "    <tr>\n",
       "      <th>1</th>\n",
       "      <td>plays</td>\n",
       "      <td>[plays, plays, plays, plays, plays, plays, pla...</td>\n",
       "    </tr>\n",
       "    <tr>\n",
       "      <th>2</th>\n",
       "      <td>album</td>\n",
       "      <td>[music name, music collection, music collectio...</td>\n",
       "    </tr>\n",
       "    <tr>\n",
       "      <th>3</th>\n",
       "      <td>club</td>\n",
       "      <td>[group name, club name, league name, club, all...</td>\n",
       "    </tr>\n",
       "    <tr>\n",
       "      <th>4</th>\n",
       "      <td>owner</td>\n",
       "      <td>[co founder name, co founder, owner, owner, co...</td>\n",
       "    </tr>\n",
       "    <tr>\n",
       "      <th>...</th>\n",
       "      <td>...</td>\n",
       "      <td>...</td>\n",
       "    </tr>\n",
       "    <tr>\n",
       "      <th>73</th>\n",
       "      <td>grades</td>\n",
       "      <td>[class name, grade name, section name, class n...</td>\n",
       "    </tr>\n",
       "    <tr>\n",
       "      <th>74</th>\n",
       "      <td>currency</td>\n",
       "      <td>[currency name (country), currency type, curre...</td>\n",
       "    </tr>\n",
       "    <tr>\n",
       "      <th>75</th>\n",
       "      <td>sex</td>\n",
       "      <td>[gender type, gender code, gender name, gender...</td>\n",
       "    </tr>\n",
       "    <tr>\n",
       "      <th>76</th>\n",
       "      <td>isbn</td>\n",
       "      <td>[isbn, isbn identifier, isbn, isbn identifier,...</td>\n",
       "    </tr>\n",
       "    <tr>\n",
       "      <th>77</th>\n",
       "      <td>continent</td>\n",
       "      <td>[continent, continent code, continent, zone na...</td>\n",
       "    </tr>\n",
       "  </tbody>\n",
       "</table>\n",
       "<p>78 rows × 2 columns</p>\n",
       "</div>"
      ],
      "text/plain": [
       "            0                                                  1\n",
       "0      jockey  [jockey information, jockey name, jockey infor...\n",
       "1       plays  [plays, plays, plays, plays, plays, plays, pla...\n",
       "2       album  [music name, music collection, music collectio...\n",
       "3        club  [group name, club name, league name, club, all...\n",
       "4       owner  [co founder name, co founder, owner, owner, co...\n",
       "..        ...                                                ...\n",
       "73     grades  [class name, grade name, section name, class n...\n",
       "74   currency  [currency name (country), currency type, curre...\n",
       "75        sex  [gender type, gender code, gender name, gender...\n",
       "76       isbn  [isbn, isbn identifier, isbn, isbn identifier,...\n",
       "77  continent  [continent, continent code, continent, zone na...\n",
       "\n",
       "[78 rows x 2 columns]"
      ]
     },
     "execution_count": 31,
     "metadata": {},
     "output_type": "execute_result"
    }
   ],
   "source": [
    "pd.DataFrame(type_feats_mapping.items())"
   ]
  },
  {
   "cell_type": "code",
   "execution_count": null,
   "id": "06d31200",
   "metadata": {},
   "outputs": [],
   "source": []
  },
  {
   "cell_type": "code",
   "execution_count": null,
   "id": "d892f204",
   "metadata": {},
   "outputs": [],
   "source": []
  },
  {
   "cell_type": "code",
   "execution_count": null,
   "id": "e96f9166",
   "metadata": {},
   "outputs": [],
   "source": []
  }
 ],
 "metadata": {
  "kernelspec": {
   "display_name": "Python 3 (ipykernel)",
   "language": "python",
   "name": "python3"
  },
  "language_info": {
   "codemirror_mode": {
    "name": "ipython",
    "version": 3
   },
   "file_extension": ".py",
   "mimetype": "text/x-python",
   "name": "python",
   "nbconvert_exporter": "python",
   "pygments_lexer": "ipython3",
   "version": "3.9.12"
  }
 },
 "nbformat": 4,
 "nbformat_minor": 5
}
