{
 "cells": [
  {
   "cell_type": "markdown",
   "id": "7a6b2ad6",
   "metadata": {},
   "source": [
    "### Mapping the values with original data "
   ]
  },
  {
   "cell_type": "markdown",
   "id": "0feb88b8",
   "metadata": {},
   "source": [
    "#### 1. Feature variations for sherlock data"
   ]
  },
  {
   "cell_type": "code",
   "execution_count": 1,
   "id": "9484c3f6",
   "metadata": {},
   "outputs": [],
   "source": [
    "import pandas as pd\n",
    "import json\n",
    "from collections import defaultdict\n",
    "import numpy as np\n",
    "import random"
   ]
  },
  {
   "cell_type": "markdown",
   "id": "b2b11368",
   "metadata": {},
   "source": [
    "#### 2. Reading the mapping and features files"
   ]
  },
  {
   "cell_type": "code",
   "execution_count": 2,
   "id": "4a9eec81",
   "metadata": {},
   "outputs": [],
   "source": [
    "### Mapping file for each type\n",
    "mapping_file = pd.read_excel(r'data/Column_Mapping.xlsx')"
   ]
  },
  {
   "cell_type": "code",
   "execution_count": 3,
   "id": "a330bd1e",
   "metadata": {},
   "outputs": [],
   "source": [
    "### Get the json file with each features\n",
    "with open(r\"data\\corrected_combined_with_features.json\",'rb') as f:\n",
    "    feats_json = json.load(f)"
   ]
  },
  {
   "cell_type": "markdown",
   "id": "e6d0b464",
   "metadata": {},
   "source": [
    "#### 3.1.  Data related changes - Mapping File"
   ]
  },
  {
   "cell_type": "code",
   "execution_count": 4,
   "id": "626141ed",
   "metadata": {},
   "outputs": [],
   "source": [
    "### Mapping format to long format\n",
    "split_df = pd.DataFrame(mapping_file.Variations.str.split(',').tolist(), index=mapping_file.type).stack().reset_index()\n",
    "split_df.columns = ['type','index','variation']\n",
    "split_df = split_df[['type','variation']]\n",
    "split_df['variation'] = split_df['variation'].str.strip().str.lower()\n",
    "split_df['type'] = split_df['type'].str.strip().str.lower()"
   ]
  },
  {
   "cell_type": "code",
   "execution_count": 5,
   "id": "611f2e7f",
   "metadata": {},
   "outputs": [],
   "source": [
    "original_type = split_df[['type','type']].drop_duplicates()\n",
    "original_type.columns = ['type','variation']"
   ]
  },
  {
   "cell_type": "code",
   "execution_count": 6,
   "id": "c68d24d2",
   "metadata": {},
   "outputs": [],
   "source": [
    "final_df = pd.concat([split_df,original_type])\n",
    "final_df = final_df.drop_duplicates().reset_index(drop=True)\n",
    "final_df['variation'] = final_df['variation'].str.strip()"
   ]
  },
  {
   "cell_type": "code",
   "execution_count": 7,
   "id": "fc485168",
   "metadata": {},
   "outputs": [],
   "source": [
    "key_dict = defaultdict(list)\n",
    "\n",
    "for i,row in final_df.iterrows():\n",
    "    key_dict[row['type']].append(row['variation'])"
   ]
  },
  {
   "cell_type": "markdown",
   "id": "6a6f326b",
   "metadata": {},
   "source": [
    "#### 3.2.  Data related changes - Sherlock File"
   ]
  },
  {
   "cell_type": "code",
   "execution_count": 8,
   "id": "62cfa599",
   "metadata": {},
   "outputs": [],
   "source": [
    "sherlock_data = pd.DataFrame(feats_json)\n",
    "sherlock_data['type'] = sherlock_data['type'].str.lower().str.strip()"
   ]
  },
  {
   "cell_type": "code",
   "execution_count": 9,
   "id": "23ff260e",
   "metadata": {},
   "outputs": [],
   "source": [
    "sherlock_count = sherlock_data['type'].value_counts().to_dict()"
   ]
  },
  {
   "cell_type": "markdown",
   "id": "c7c20504",
   "metadata": {},
   "source": [
    "#### 4. Logic Mappping"
   ]
  },
  {
   "cell_type": "code",
   "execution_count": 10,
   "id": "c55bd189",
   "metadata": {},
   "outputs": [],
   "source": [
    "sherlock_key_map = {}\n",
    "\n",
    "for keys, values in sherlock_count.items():\n",
    "    variations = key_dict[keys]\n",
    "    if len(variations)>0:\n",
    "        extras = []\n",
    "        output = list(np.repeat(variations,values/len(variations)))\n",
    "        if values-len(output) >0:\n",
    "            extras = variations[:values-len(output)]\n",
    "        final_output = output + extras\n",
    "    else:\n",
    "        final_output = variations * values\n",
    "    \n",
    "    sherlock_key_map[keys] = final_output"
   ]
  },
  {
   "cell_type": "markdown",
   "id": "4d4debd9",
   "metadata": {},
   "source": [
    "#### 5. Validating the results"
   ]
  },
  {
   "cell_type": "code",
   "execution_count": 11,
   "id": "9a904b59",
   "metadata": {
    "scrolled": true
   },
   "outputs": [],
   "source": [
    "for key, value in sherlock_count.items():\n",
    "    if sherlock_count[key] != len(sherlock_key_map[key]):\n",
    "        print('{} is not matched in row count'.format(key))"
   ]
  },
  {
   "cell_type": "markdown",
   "id": "d194f140",
   "metadata": {},
   "source": [
    "#### 6. Randomly shuffle elements in each data"
   ]
  },
  {
   "cell_type": "code",
   "execution_count": 12,
   "id": "e62c149f",
   "metadata": {},
   "outputs": [],
   "source": [
    "type_feats_mapping = {}\n",
    "\n",
    "for keys,values in sherlock_key_map.items():\n",
    "    random.shuffle(values)\n",
    "    type_feats_mapping[keys] = values\n",
    "    \n",
    "type_feats_mapping = dict(type_feats_mapping)"
   ]
  },
  {
   "cell_type": "markdown",
   "id": "c3c74a55",
   "metadata": {},
   "source": [
    "#### 7. Mapping features of Sherlock data with values"
   ]
  },
  {
   "cell_type": "code",
   "execution_count": 21,
   "id": "06d31200",
   "metadata": {
    "collapsed": true
   },
   "outputs": [
    {
     "name": "stderr",
     "output_type": "stream",
     "text": [
      "C:\\Users\\LENOVO\\AppData\\Local\\Temp\\ipykernel_8304\\391139740.py:4: SettingWithCopyWarning: \n",
      "A value is trying to be set on a copy of a slice from a DataFrame.\n",
      "Try using .loc[row_indexer,col_indexer] = value instead\n",
      "\n",
      "See the caveats in the documentation: https://pandas.pydata.org/pandas-docs/stable/user_guide/indexing.html#returning-a-view-versus-a-copy\n",
      "  sub_df['column_name'] = type_feats_mapping[keys]\n"
     ]
    }
   ],
   "source": [
    "final_df = pd.DataFrame()\n",
    "for keys in sherlock_data['type'].unique():\n",
    "    sub_df = sherlock_data[sherlock_data['type']==keys]\n",
    "    sub_df['column_name'] = type_feats_mapping[keys]\n",
    "    final_df = pd.concat([final_df,sub_df])\n",
    "    \n",
    "final_df = final_df.reset_index(drop=True)"
   ]
  },
  {
   "cell_type": "code",
   "execution_count": 27,
   "id": "d892f204",
   "metadata": {},
   "outputs": [],
   "source": [
    "final_df.to_json('data\\combined_data_with_type.json',orient='records')"
   ]
  },
  {
   "cell_type": "code",
   "execution_count": null,
   "id": "e96f9166",
   "metadata": {},
   "outputs": [],
   "source": []
  }
 ],
 "metadata": {
  "kernelspec": {
   "display_name": "Python 3 (ipykernel)",
   "language": "python",
   "name": "python3"
  },
  "language_info": {
   "codemirror_mode": {
    "name": "ipython",
    "version": 3
   },
   "file_extension": ".py",
   "mimetype": "text/x-python",
   "name": "python",
   "nbconvert_exporter": "python",
   "pygments_lexer": "ipython3",
   "version": "3.9.12"
  }
 },
 "nbformat": 4,
 "nbformat_minor": 5
}
